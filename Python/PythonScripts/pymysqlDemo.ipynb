{
 "cells": [
  {
   "cell_type": "markdown",
   "metadata": {},
   "source": [
    "# pymysql\n",
    "\n",
    "> 一个用于连接mysql数据库的第三方库"
   ]
  },
  {
   "cell_type": "code",
   "execution_count": null,
   "metadata": {},
   "outputs": [],
   "source": [
    "# pip install mysql-connector\n",
    "import pymysql as mysql         \n",
    "\n",
    "config = {                              # 作为连接MySQL时的配置\n",
    "    'user':'clz',\n",
    "    'password':'m4a1421',\n",
    "    'host':'localhost',\n",
    "    'database':'test'}\n",
    "\n",
    "conn = mysql.connect(**config)          # 连接MySQL，**config作为参数，“**”代表参数config是一个dict或set\n",
    "cursor = conn.cursor()     # 返回一个游标迭代器，buffered=True 启用内存缓冲\n",
    "\n",
    "sql_stmnt = \"select id,name from user\"\n",
    "cursor.execute(sql_stmnt)               # 游标的execute()函数执行sql语句\n",
    "\n",
    "count = cursor.rowcount                # rowcount,获得结果行数\n",
    "field = cursor.description[0]          # column_names获得字段名        \n",
    "result = cursor.fetchall()              # fetchall(),获得结果集\n",
    "\n",
    "cursor.close()                          # 关闭游标\n",
    "conn.close()                            # 关闭连接        \n",
    "\n",
    "# 下面是输出结果\n",
    "print(\"{}\\t{}\".format(field[0],field[1]))\n",
    "\n",
    "for row in result:\n",
    "    print(\"{}\\t{}\".format(row[0],row[1]))\n",
    "    \n",
    "\n",
    "print(\"\\ncount:\\t{}\".format(count))"
   ]
  }
 ],
 "metadata": {
  "kernelspec": {
   "display_name": "Python 3",
   "language": "python",
   "name": "python3"
  },
  "language_info": {
   "codemirror_mode": {
    "name": "ipython",
    "version": 3
   },
   "file_extension": ".py",
   "mimetype": "text/x-python",
   "name": "python",
   "nbconvert_exporter": "python",
   "pygments_lexer": "ipython3",
   "version": "3.7.4"
  }
 },
 "nbformat": 4,
 "nbformat_minor": 4
}
